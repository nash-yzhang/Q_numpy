{
 "cells": [
  {
   "cell_type": "code",
   "execution_count": 2,
   "metadata": {},
   "outputs": [
    {
     "name": "stdout",
     "output_type": "stream",
     "text": [
      "Warning: Cannot change to a different GUI toolkit: notebook. Using qt instead.\n"
     ]
    }
   ],
   "source": [
    "import Q_num as qn\n",
    "import numpy as np\n",
    "import matplotlib.pyplot as plt\n",
    "%matplotlib notebook"
   ]
  },
  {
   "cell_type": "markdown",
   "metadata": {},
   "source": [
    "### Create quaternion number/arrray"
   ]
  },
  {
   "cell_type": "code",
   "execution_count": 15,
   "metadata": {},
   "outputs": [],
   "source": [
    "qn1 = qn.qn([0,1,2,3])\n",
    "qn2 = qn.qn(np.array([[1,3,2,4],[0.13,4.15,22,5.123123]]))\n",
    "qn3 = qn.qn(np.random.rand(30,20,10,4))\n",
    "qn4 = qn.qn(np.random.rand(10,20,3)) #3D coordinate matrix will be converted to quaterniono matrix whose real part is 0"
   ]
  },
  {
   "cell_type": "markdown",
   "metadata": {},
   "source": [
    "### Quaternion array attribute and indexing"
   ]
  },
  {
   "cell_type": "code",
   "execution_count": 38,
   "metadata": {},
   "outputs": [
    {
     "data": {
      "text/plain": [
       "Quaternion Array (): \n",
       "'+0+1i+2j+3k'"
      ]
     },
     "metadata": {},
     "output_type": "display_data"
    },
    {
     "name": "stdout",
     "output_type": "stream",
     "text": [
      "0.0\n",
      "1.0\n",
      "2.0\n",
      "3.0\n"
     ]
    },
    {
     "data": {
      "text/plain": [
       "Quaternion Array (2, 6): \n",
       "[['+0+0.926i+0.5387j+0.8014k' '+0+0.5251i+0.5006j+0.5319k'\n",
       "  '+0+0.5134i+0.9545j+0.7415k' '+0+0.124i+0.6525j+0.07362k'\n",
       "  '+0+0.8414i+0.9122j+0.8761k' '+0+0.8994i+0.6129j+0.6906k']\n",
       " ['+0+0.9119i+0.9875j+0.4615k' '+0+0.9995i+0.5248j+0.09973k'\n",
       "  '+0+0.8965i+0.09812j+0.4974k' '+0+0.2132i+0.8037j+0.4552k'\n",
       "  '+0+0.6802i+0.387j+0.2502k' '+0+0.9618i+0.0551j+0.9914k']]"
      ]
     },
     "metadata": {},
     "output_type": "display_data"
    },
    {
     "name": "stdout",
     "output_type": "stream",
     "text": [
      "[[0. 0. 0. 0. 0. 0.]\n",
      " [0. 0. 0. 0. 0. 0.]]\n",
      "[[0.92600399 0.52508071 0.51335586 0.12404193 0.84142188 0.89943653]\n",
      " [0.91192578 0.99950482 0.89654535 0.21316713 0.68020767 0.96175304]]\n",
      "[0.92600399 0.52508071 0.51335586]\n",
      "[0.92600399 0.52508071 0.51335586]\n",
      "[0.92600399 0.52508071 0.51335586]\n"
     ]
    }
   ],
   "source": [
    "display(qn1)\n",
    "print(qn1.w)\n",
    "print(qn1.x)\n",
    "print(qn1.y)\n",
    "print(qn1.z)\n",
    "\n",
    "qn5 = qn4[:2,14:]\n",
    "display(qn5)\n",
    "print(qn5.w)\n",
    "print(qn5.x)\n",
    "print(qn5[0,:3]['x'])\n",
    "print(qn5['x'][0,:3])\n",
    "print(qn5[0,:3].x)"
   ]
  },
  {
   "cell_type": "code",
   "execution_count": 117,
   "metadata": {},
   "outputs": [
    {
     "data": {
      "text/plain": [
       "array([[[0.        , 0.92600399, 0.53871625, 0.80144767],\n",
       "        [0.        , 0.52508071, 0.50064505, 0.53192078],\n",
       "        [0.        , 0.51335586, 0.95448613, 0.74154012],\n",
       "        [0.        , 0.12404193, 0.65248967, 0.07361991],\n",
       "        [0.        , 0.84142188, 0.91221122, 0.87608863],\n",
       "        [0.        , 0.89943653, 0.61294624, 0.69057215]],\n",
       "\n",
       "       [[0.        , 0.91192578, 0.98745544, 0.46145466],\n",
       "        [0.        , 0.99950482, 0.5247622 , 0.09973027],\n",
       "        [0.        , 0.89654535, 0.09811743, 0.49740932],\n",
       "        [0.        , 0.21316713, 0.80365044, 0.45522333],\n",
       "        [0.        , 0.68020767, 0.38695654, 0.25020782],\n",
       "        [0.        , 0.96175304, 0.05510389, 0.99137815]]])"
      ]
     },
     "metadata": {},
     "output_type": "display_data"
    },
    {
     "data": {
      "text/plain": [
       "(2, 6, 4)"
      ]
     },
     "metadata": {},
     "output_type": "display_data"
    },
    {
     "data": {
      "text/plain": [
       "(12, 4)"
      ]
     },
     "metadata": {},
     "output_type": "display_data"
    }
   ],
   "source": [
    "display(qn5.asMatrix())\n",
    "display(qn5.asMatrix().shape)\n",
    "display(qn5.compact().shape)"
   ]
  },
  {
   "cell_type": "code",
   "execution_count": 73,
   "metadata": {},
   "outputs": [
    {
     "name": "stdout",
     "output_type": "stream",
     "text": [
      "[[0. 0. 0. 0. 0. 0.]\n",
      " [0. 0. 0. 0. 0. 0.]]\n",
      "[[0. 0. 0. 0. 0. 0.]\n",
      " [0. 0. 0. 0. 0. 0.]]\n"
     ]
    }
   ],
   "source": [
    "# Known bug 1: when all indexes are intergers but not slice (3 vs 0:5), it will return numpy.void object but not qn object\n",
    "qn4[0,3].w # bug\n",
    "# Known bug 2: the subset quaternion array can't be printed but can be displayed,some bugs related with the custom __getitem__ and __repr__ functions\n",
    "print(qn5['w']) # this is fine\n",
    "print(qn5[:2,:]['w']) # this is also fine\n",
    "print(qn5[:2,:]) # bug\n",
    "print(qn5) #bug\n",
    "display(qn5[:1,:3])"
   ]
  },
  {
   "cell_type": "markdown",
   "metadata": {},
   "source": [
    "### basic calculation"
   ]
  },
  {
   "cell_type": "code",
   "execution_count": 109,
   "metadata": {},
   "outputs": [
    {
     "data": {
      "text/plain": [
       "Quaternion Array (2,): \n",
       "['+2+6i+4j+8k' '+0.26+8.3i+44j+10.25k']"
      ]
     },
     "metadata": {},
     "output_type": "display_data"
    },
    {
     "data": {
      "text/plain": [
       "Quaternion Array (2,): \n",
       "['+3+10i+8j+15k' '+0.39+13.45i+68j+18.37k']"
      ]
     },
     "metadata": {},
     "output_type": "display_data"
    },
    {
     "data": {
      "text/plain": [
       "Quaternion Array (2,): \n",
       "['+1+4i+4j+7k' '+0.13+5.15i+24j+8.123k']"
      ]
     },
     "metadata": {},
     "output_type": "display_data"
    },
    {
     "data": {
      "text/plain": [
       "Quaternion Array (2,): \n",
       "['-75+15i+15j+15k' '-1118-53.47i+19.03j+16.75k']"
      ]
     },
     "metadata": {},
     "output_type": "display_data"
    },
    {
     "data": {
      "text/plain": [
       "Quaternion Array (2,): \n",
       "['-75+11i+5j+23k' '-1118+58.04i+4.373j-10.65k']"
      ]
     },
     "metadata": {},
     "output_type": "display_data"
    },
    {
     "data": {
      "text/plain": [
       "Quaternion Array (2,): \n",
       "['+12+36i+24j+48k' '+1.56+49.8i+264j+61.48k']"
      ]
     },
     "metadata": {},
     "output_type": "display_data"
    },
    {
     "data": {
      "text/plain": [
       "Quaternion Array (2,): \n",
       "['+0.3762+0.004762i+0.01429j-0.03333k'\n",
       " '+0.4703-0.0235i+0.002972j+0.005597k']"
      ]
     },
     "metadata": {},
     "output_type": "display_data"
    },
    {
     "data": {
      "text/plain": [
       "Quaternion Array (2,): \n",
       "['+2.633-0.03333i-0.1j+0.2333k' '+2.12+0.1059i-0.0134j-0.02523k']"
      ]
     },
     "metadata": {},
     "output_type": "display_data"
    },
    {
     "data": {
      "text/plain": [
       "Quaternion Array (2,): \n",
       "['+0.25+0.875i+0.75j+1.375k' '+0.0325+1.163i+5.75j+1.656k']"
      ]
     },
     "metadata": {},
     "output_type": "display_data"
    },
    {
     "data": {
      "text/plain": [
       "Quaternion Array (2,): \n",
       "['+0.009524-0.03333i-0.02857j-0.05238k'\n",
       " '+0.0001093-0.003911i-0.01934j-0.00557k']"
      ]
     },
     "metadata": {},
     "output_type": "display_data"
    },
    {
     "data": {
      "text/plain": [
       "Quaternion Array (2,): \n",
       "['+0.009524-0.03333i-0.02857j-0.05238k'\n",
       " '+0.0001093-0.003911i-0.01934j-0.00557k']"
      ]
     },
     "metadata": {},
     "output_type": "display_data"
    },
    {
     "data": {
      "text/plain": [
       "array([-0.03333333, -0.00391082])"
      ]
     },
     "metadata": {},
     "output_type": "display_data"
    },
    {
     "data": {
      "text/plain": [
       "Quaternion Array (2,): \n",
       "['+1.694-1.184i-0.7896j-1.579k' '-0.6386-0.1704i-0.9033j-0.2103k']"
      ]
     },
     "metadata": {},
     "output_type": "display_data"
    },
    {
     "data": {
      "text/plain": [
       "Quaternion Array (2,): \n",
       "['-1.58+3.52i+3.017j+5.532k' '+0.09016-0.2467i-1.22j-0.3514k']"
      ]
     },
     "metadata": {},
     "output_type": "display_data"
    },
    {
     "data": {
      "text/plain": [
       "Quaternion Array (): \n",
       "'+2.26+16.3i+52j+24.25k'"
      ]
     },
     "metadata": {},
     "output_type": "display_data"
    },
    {
     "data": {
      "text/plain": [
       "Quaternion Array (): \n",
       "'+2.26+16.3i+52j+24.25k'"
      ]
     },
     "metadata": {},
     "output_type": "display_data"
    },
    {
     "data": {
      "text/plain": [
       "Quaternion Array (): \n",
       "'+1.13+8.15i+26j+12.12k'"
      ]
     },
     "metadata": {},
     "output_type": "display_data"
    }
   ],
   "source": [
    "display(qn2 + qn2)\n",
    "display(qn2 + qn1) # boardcasting\n",
    "display(qn1 - qn2)\n",
    "display(qn1 * qn2) # Check if the calculation is correct\n",
    "display(qn2 * qn1) # also this\n",
    "display(qn2 * 12)\n",
    "display(qn2 / qn1)\n",
    "display(qn1 / qn2)\n",
    "display(qn1 / 8)\n",
    "display(qn1.inv())\n",
    "display(1 / qn1)\n",
    "display((1 / qn1).x)\n",
    "display(qn.exp(qn2))\n",
    "display(qn.exp(qn1)) # known bug: if the quaternion number contains a 0, will yield out nan; will fix it soon\n",
    "display(qn1.sum()) # not recommended, sometimes will give typeerror, use Q_num.sum instead\n",
    "display(qn.sum(qn1))\n",
    "display(qn.mean(qn1))"
   ]
  },
  {
   "cell_type": "code",
   "execution_count": 121,
   "metadata": {},
   "outputs": [
    {
     "data": {
      "text/plain": [
       "Quaternion Array (2,): \n",
       "['+0+3i+2j+4k' '+0+4.15i+22j+5.123k']"
      ]
     },
     "metadata": {},
     "output_type": "display_data"
    },
    {
     "data": {
      "text/plain": [
       "Quaternion Array (2,): \n",
       "['+1+0i+0j+0k' '+0.13+0i+0j+0k']"
      ]
     },
     "metadata": {},
     "output_type": "display_data"
    },
    {
     "data": {
      "text/plain": [
       "array([[ 3.      ,  2.      ,  4.      ],\n",
       "       [ 4.15    , 22.      ,  5.123123]])"
      ]
     },
     "metadata": {},
     "output_type": "display_data"
    },
    {
     "data": {
      "text/plain": [
       "array([1.  , 0.13])"
      ]
     },
     "metadata": {},
     "output_type": "display_data"
    },
    {
     "data": {
      "text/plain": [
       "array([ 5.47722558, 22.96705879])"
      ]
     },
     "metadata": {},
     "output_type": "display_data"
    },
    {
     "data": {
      "text/plain": [
       "Quaternion Array (2,): \n",
       "['+0.1826+0.5477i+0.3651j+0.7303k' '+0.00566+0.1807i+0.9579j+0.2231k']"
      ]
     },
     "metadata": {},
     "output_type": "display_data"
    },
    {
     "data": {
      "text/plain": [
       "Quaternion Array (2,): \n",
       "['+0.1826+0.5477i+0.3651j+0.7303k' '+0.00566+0.1807i+0.9579j+0.2231k']"
      ]
     },
     "metadata": {},
     "output_type": "display_data"
    },
    {
     "data": {
      "text/plain": [
       "Quaternion Array (6, 2): \n",
       "[['+0-0.926i-0.5387j-0.8014k' '+0-0.5251i-0.5006j-0.5319k'\n",
       "  '+0-0.5134i-0.9545j-0.7415k' '+0-0.124i-0.6525j-0.07362k'\n",
       "  '+0-0.8414i-0.9122j-0.8761k' '+0-0.8994i-0.6129j-0.6906k']\n",
       " ['+0-0.9119i-0.9875j-0.4615k' '+0-0.9995i-0.5248j-0.09973k'\n",
       "  '+0-0.8965i-0.09812j-0.4974k' '+0-0.2132i-0.8037j-0.4552k'\n",
       "  '+0-0.6802i-0.387j-0.2502k' '+0-0.9618i-0.0551j-0.9914k']]"
      ]
     },
     "metadata": {},
     "output_type": "display_data"
    },
    {
     "data": {
      "text/plain": [
       "(2, 6)"
      ]
     },
     "metadata": {},
     "output_type": "display_data"
    }
   ],
   "source": [
    "display(qn2.imag())\n",
    "display(qn2.real())\n",
    "display(qn2.imagpart())\n",
    "display(qn2.realpart())\n",
    "display(qn2.norm())\n",
    "display(qn2/qn2.norm())\n",
    "display(qn2.normalize())\n",
    "display(qn5.qT()) # quaternion matrix transpose "
   ]
  },
  {
   "cell_type": "markdown",
   "metadata": {},
   "source": [
    "### Q_num methods"
   ]
  },
  {
   "cell_type": "code",
   "execution_count": 134,
   "metadata": {},
   "outputs": [
    {
     "data": {
      "text/plain": [
       "Quaternion Array (2, 2): \n",
       "[['+2+7i+6j+11k' '+1+3i+2j+4k']\n",
       " ['+0.26+9.3i+46j+13.25k' '+0.13+4.15i+22j+5.123k']]"
      ]
     },
     "metadata": {},
     "output_type": "display_data"
    },
    {
     "data": {
      "text/plain": [
       "array([  -75.        , -1118.42334755])"
      ]
     },
     "metadata": {},
     "output_type": "display_data"
    },
    {
     "data": {
      "text/plain": [
       "Quaternion Array (2,): \n",
       "['+0+15i+15j+15k' '+0-53.47i+19.03j+16.75k']"
      ]
     },
     "metadata": {},
     "output_type": "display_data"
    },
    {
     "data": {
      "text/plain": [
       "array([3.05469253, 3.08989077])"
      ]
     },
     "metadata": {},
     "output_type": "display_data"
    },
    {
     "data": {
      "text/plain": [
       "Quaternion Array (2,): \n",
       "['-1.11e-16-2.233i-2.485j-4.223k' '-1.665e-16-4.598i-21.27j-7.337k']"
      ]
     },
     "metadata": {},
     "output_type": "display_data"
    },
    {
     "data": {
      "text/plain": [
       "Quaternion Array (2,): \n",
       "['+1.242+3.43i+3.214j+4.759k' '+0.1311+3.258i+21.97j+6.566k']"
      ]
     },
     "metadata": {},
     "output_type": "display_data"
    }
   ],
   "source": [
    "display(qn.stack(qn1,qn2,axis = 1)) # stack in the same way as np.stack\n",
    "display(qn.qdot(qn1,qn2)) # dot product\n",
    "display(qn.qcross(qn1,qn2)) # cross product\n",
    "display(qn.anglebtw(qn1.imag(),qn2.imag())) # if use quaternion number to represent 3d vec, this will give you the angle between two 3d vector\n",
    "display(qn.reflect(qn1.imag(),qn2.imag())) # first input: normal line of a surface, second input: a 3d vector in quaternion form; this will return the reflected vector\n",
    "display(qn.rotate(qn1,qn2,np.pi/2))  # first input is the rotation axis, 2nd: point to be rotated, 3rd: rotation angle (optional, if none, directly use qn1 for rotation)"
   ]
  },
  {
   "cell_type": "markdown",
   "metadata": {},
   "source": [
    "### Some visualization"
   ]
  },
  {
   "cell_type": "code",
   "execution_count": 35,
   "metadata": {},
   "outputs": [],
   "source": [
    "from mpl_toolkits.mplot3d import Axes3D\n",
    "spherePoints = qn.qn(np.random.rand(240,3)-np.array([.5,.5,0])).normalize()\n",
    "rotateQn     = qn.qn([np.cos(np.pi/2),np.sin(np.pi/2),0,0])\n",
    "rotatedPoints = rotateQn*spherePoints*rotateQn.conj()\n",
    "fig = plt.figure()\n",
    "ax = Axes3D(fig);\n",
    "ax.scatter(spherePoints.x,spherePoints.y,spherePoints.z,color = 'k')\n",
    "ax.scatter(rotatedPoints.x,rotatedPoints.y,rotatedPoints.z,color = 'r')\n",
    "ax.axis('auto');\n",
    "ax.autoscale = False;"
   ]
  }
 ],
 "metadata": {
  "kernelspec": {
   "display_name": "Python 3",
   "language": "python",
   "name": "python3"
  },
  "language_info": {
   "codemirror_mode": {
    "name": "ipython",
    "version": 3
   },
   "file_extension": ".py",
   "mimetype": "text/x-python",
   "name": "python",
   "nbconvert_exporter": "python",
   "pygments_lexer": "ipython3",
   "version": "3.7.2"
  }
 },
 "nbformat": 4,
 "nbformat_minor": 2
}
