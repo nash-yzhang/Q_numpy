{
 "cells": [
  {
   "cell_type": "code",
   "execution_count": 1,
   "metadata": {},
   "outputs": [],
   "source": [
    "import Q_num as qn\n",
    "import numpy as np\n",
    "import importlib\n",
    "\n",
    "import matplotlib.pyplot as plt\n",
    "importlib.reload(qn);\n",
    "%matplotlib notebook"
   ]
  },
  {
   "cell_type": "markdown",
   "metadata": {},
   "source": [
    "### Create quaternion number/arrray"
   ]
  },
  {
   "cell_type": "code",
   "execution_count": 2,
   "metadata": {
    "scrolled": true
   },
   "outputs": [
    {
     "name": "stderr",
     "output_type": "stream",
     "text": [
      "C:\\Users\\yuezh\\Documents\\GitHub\\Q_numpy\\Q_num.py:39: UserWarning: Input array (10, 20, 3) is set to (10, 20, 4)\n",
      "  warnings.warn(warningmsg)\n"
     ]
    }
   ],
   "source": [
    "qn1 = qn.qn([0,1,2,3])\n",
    "qn2 = qn.qn(np.array([[1,3,2,4],[0.13,4.15,22,5.123123]]))\n",
    "qn3 = qn.qn(np.random.rand(30,20,10,4))\n",
    "qn4 = qn.qn(np.random.rand(10,20,3)) #3D coordinate matrix will be converted to quaterniono matrix whose real part is 0"
   ]
  },
  {
   "cell_type": "markdown",
   "metadata": {},
   "source": [
    "### Quaternion array attribute and indexing"
   ]
  },
  {
   "cell_type": "code",
   "execution_count": 3,
   "metadata": {},
   "outputs": [
    {
     "data": {
      "text/plain": [
       "Quaternion Array (): \n",
       "'+0+1i+2j+3k'"
      ]
     },
     "metadata": {},
     "output_type": "display_data"
    },
    {
     "name": "stdout",
     "output_type": "stream",
     "text": [
      "2.0\n"
     ]
    },
    {
     "data": {
      "text/plain": [
       "Quaternion Array (2, 6): \n",
       "[['+0+0.5527i+0.2586j+0.6207k' '+0+0.863i+0.1098j+0.8721k'\n",
       "  '+0+0.3826i+0.3702j+0.7615k' '+0+0.8045i+0.8879j+0.1938k'\n",
       "  '+0+0.717i+0.3235j+0.8824k' '+0+0.4212i+0.6281j+0.8993k']\n",
       " ['+0+0.5575i+0.2905j+0.2409k' '+0+0.5914i+0.1004j+0.06947k'\n",
       "  '+0+0.2235i+0.07953j+0.6633k' '+0+0.816i+0.7587j+0.8577k'\n",
       "  '+0+0.02288i+0.7212j+0.8605k' '+0+0.8853i+0.6943j+0.6907k']]"
      ]
     },
     "metadata": {},
     "output_type": "display_data"
    },
    {
     "name": "stdout",
     "output_type": "stream",
     "text": [
      "[[0.55268493 0.86302204 0.38264724 0.80446175 0.71703668 0.42115833]\n",
      " [0.55748603 0.59143703 0.22353411 0.81604189 0.02288116 0.88529508]]\n",
      "[0.55268493 0.86302204 0.38264724]\n",
      "[0.55268493 0.86302204 0.38264724]\n"
     ]
    }
   ],
   "source": [
    "display(qn1)\n",
    "print(qn1['y'])\n",
    "\n",
    "qn5 = qn4[:2,14:]\n",
    "display(qn5)\n",
    "print(qn5['x'])\n",
    "print(qn5[0,:3]['x'])\n",
    "print(qn5['x'][0,:3])"
   ]
  },
  {
   "cell_type": "code",
   "execution_count": 4,
   "metadata": {},
   "outputs": [
    {
     "data": {
      "text/plain": [
       "array([[[0.        , 0.55268493, 0.25858678, 0.62066751],\n",
       "        [0.        , 0.86302204, 0.10976133, 0.87205681],\n",
       "        [0.        , 0.38264724, 0.37017752, 0.76151685],\n",
       "        [0.        , 0.80446175, 0.88786402, 0.19381674],\n",
       "        [0.        , 0.71703668, 0.32352102, 0.88242695],\n",
       "        [0.        , 0.42115833, 0.62811112, 0.89929955]],\n",
       "\n",
       "       [[0.        , 0.55748603, 0.29048866, 0.24092198],\n",
       "        [0.        , 0.59143703, 0.10041166, 0.06947176],\n",
       "        [0.        , 0.22353411, 0.07952527, 0.66331639],\n",
       "        [0.        , 0.81604189, 0.75869168, 0.85767068],\n",
       "        [0.        , 0.02288116, 0.72124951, 0.86054029],\n",
       "        [0.        , 0.88529508, 0.69433287, 0.69074711]]])"
      ]
     },
     "metadata": {},
     "output_type": "display_data"
    },
    {
     "data": {
      "text/plain": [
       "(2, 6, 4)"
      ]
     },
     "metadata": {},
     "output_type": "display_data"
    },
    {
     "data": {
      "text/plain": [
       "(12, 4)"
      ]
     },
     "metadata": {},
     "output_type": "display_data"
    }
   ],
   "source": [
    "display(qn5.asMatrix())\n",
    "display(qn5.asMatrix().shape)\n",
    "display(qn5.compact().shape)"
   ]
  },
  {
   "cell_type": "code",
   "execution_count": 5,
   "metadata": {},
   "outputs": [
    {
     "data": {
      "text/plain": [
       "Quaternion Array (10, 20, 1): \n",
       "[[['+0+0.2745i+0.7622j+0.6759k']\n",
       "  ['+0+0.538i+0.8166j+0.645k']\n",
       "  ['+0+0.8851i+0.3011j+0.9634k']\n",
       "  ['+0+0.4126i+0.4572j+0.4115k']\n",
       "  ['+0+0.7921i+0.06771j+0.2846k']\n",
       "  ['+0+0.6059i+0.9734j+0.7551k']\n",
       "  ['+0+0.4201i+0.5945j+0.8326k']\n",
       "  ['+0+0.9534i+0.3501j+0.8299k']\n",
       "  ['+0+0.9657i+0.6882j+0.8251k']\n",
       "  ['+0+0.7126i+0.8947j+0.6397k']\n",
       "  ['+0+0.8662i+0.4741j+0.1806k']\n",
       "  ['+0+0.3937i+0.5741j+0.7703k']\n",
       "  ['+0+0.259i+0.5567j+0.4135k']\n",
       "  ['+0+0.2288i+0.01539j+0.6975k']\n",
       "  ['+0+0.5527i+0.2586j+0.6207k']\n",
       "  ['+0+0.863i+0.1098j+0.8721k']\n",
       "  ['+0+0.3826i+0.3702j+0.7615k']\n",
       "  ['+0+0.8045i+0.8879j+0.1938k']\n",
       "  ['+0+0.717i+0.3235j+0.8824k']\n",
       "  ['+0+0.4212i+0.6281j+0.8993k']]\n",
       "\n",
       " [['+0+0.9516i+0.7737j+0.788k']\n",
       "  ['+0+0.6862i+0.8106j+0.09643k']\n",
       "  ['+0+0.9254i+0.7782j+0.9056k']\n",
       "  ['+0+0.5896i+0.153j+0.4571k']\n",
       "  ['+0+0.9339i+0.9619j+0.1976k']\n",
       "  ['+0+0.2954i+0.08942j+0.8415k']\n",
       "  ['+0+0.01031i+0.9492j+0.8016k']\n",
       "  ['+0+0.8246i+0.3289j+0.08791k']\n",
       "  ['+0+0.03833i+0.3966j+0.8872k']\n",
       "  ['+0+0.3375i+0.2502j+0.6957k']\n",
       "  ['+0+0..."
      ]
     },
     "execution_count": 5,
     "metadata": {},
     "output_type": "execute_result"
    }
   ],
   "source": [
    "qn4[...,None]"
   ]
  },
  {
   "cell_type": "markdown",
   "metadata": {},
   "source": [
    "### basic calculation"
   ]
  },
  {
   "cell_type": "code",
   "execution_count": 6,
   "metadata": {
    "scrolled": false
   },
   "outputs": [
    {
     "data": {
      "text/plain": [
       "Quaternion Array (2, 1): \n",
       "[['+2+6i+4j+8k']\n",
       " ['+0.26+8.3i+44j+10.25k']]"
      ]
     },
     "metadata": {},
     "output_type": "display_data"
    },
    {
     "data": {
      "text/plain": [
       "Quaternion Array (2, 1): \n",
       "[['+1+4i+4j+7k']\n",
       " ['+0.13+5.15i+24j+8.123k']]"
      ]
     },
     "metadata": {},
     "output_type": "display_data"
    },
    {
     "data": {
      "text/plain": [
       "Quaternion Array (2, 1): \n",
       "[['-1-2i+0j-1k']\n",
       " ['-0.13-3.15i-20j-2.123k']]"
      ]
     },
     "metadata": {},
     "output_type": "display_data"
    },
    {
     "data": {
      "text/plain": [
       "Quaternion Array (2,): \n",
       "['-19+3i+7j-1k' '-63.52-55.62i+7.587j+14.09k']"
      ]
     },
     "metadata": {},
     "output_type": "display_data"
    },
    {
     "data": {
      "text/plain": [
       "Quaternion Array (2,): \n",
       "['-19-1i-3j+7k' '-63.52+55.88i-7.067j-13.31k']"
      ]
     },
     "metadata": {},
     "output_type": "display_data"
    },
    {
     "data": {
      "text/plain": [
       "Quaternion Array (2, 1): \n",
       "[['+12+36i+24j+48k']\n",
       " ['+1.56+49.8i+264j+61.48k']]"
      ]
     },
     "metadata": {},
     "output_type": "display_data"
    },
    {
     "data": {
      "text/plain": [
       "Quaternion Array (2,): \n",
       "['-1.357-0.07143i-0.2143j+0.5k' '-4.537+3.992i-0.5048j-0.9507k']"
      ]
     },
     "metadata": {},
     "output_type": "display_data"
    },
    {
     "data": {
      "text/plain": [
       "Quaternion Array (2,): \n",
       "['+0.6786-0.03571i-0.1071j+0.25k' '+0.1204+0.106i-0.0134j-0.02523k']"
      ]
     },
     "metadata": {},
     "output_type": "display_data"
    },
    {
     "data": {
      "text/plain": [
       "Quaternion Array (1,): \n",
       "['+0-0.125i-0.25j-0.375k']"
      ]
     },
     "metadata": {},
     "output_type": "display_data"
    },
    {
     "data": {
      "text/plain": [
       "Quaternion Array (): \n",
       "'-0-0.07143i-0.1429j-0.2143k'"
      ]
     },
     "metadata": {},
     "output_type": "display_data"
    },
    {
     "data": {
      "text/plain": [
       "Quaternion Array (1,): \n",
       "['-0+0.07143i+0.1429j+0.2143k']"
      ]
     },
     "metadata": {},
     "output_type": "display_data"
    },
    {
     "data": {
      "text/plain": [
       "array([-0.07142857])"
      ]
     },
     "metadata": {},
     "output_type": "display_data"
    },
    {
     "data": {
      "text/plain": [
       "Quaternion Array (2,): \n",
       "['+1.694+0.4357i+0.2905j+0.5809k' '-0.6386+0.1496i+0.7932j+0.1847k']"
      ]
     },
     "metadata": {},
     "output_type": "display_data"
    },
    {
     "data": {
      "text/plain": [
       "Quaternion Array (1,): \n",
       "['-0.8253-0.1509i-0.3018j-0.4528k']"
      ]
     },
     "metadata": {},
     "output_type": "display_data"
    },
    {
     "data": {
      "text/plain": [
       "Quaternion Array (1,): \n",
       "['+0+1i+2j+3k']"
      ]
     },
     "metadata": {},
     "output_type": "display_data"
    },
    {
     "data": {
      "text/plain": [
       "Quaternion Array (1,): \n",
       "['+0+1i+2j+3k']"
      ]
     },
     "metadata": {},
     "output_type": "display_data"
    },
    {
     "data": {
      "text/plain": [
       "Quaternion Array (1,): \n",
       "['+1.13-7.15i-24j-9.123k']"
      ]
     },
     "metadata": {},
     "output_type": "display_data"
    },
    {
     "data": {
      "text/plain": [
       "Quaternion Array (20, 10, 1): \n",
       "[[['+14.82+16.14i+13.13j+13.76k']\n",
       "  ['+15.38+14.82i+16.55j+16.27k']\n",
       "  ['+16.14+15.46i+15.72j+14.04k']\n",
       "  ['+14.49+17.39i+14.77j+16.31k']\n",
       "  ['+14.74+16.38i+14.09j+16.59k']\n",
       "  ['+16.56+13.19i+13.57j+14.9k']\n",
       "  ['+14.17+12.76i+13.49j+15.67k']\n",
       "  ['+13.93+15.76i+16.84j+13.48k']\n",
       "  ['+11.1+18.34i+13.14j+15.99k']\n",
       "  ['+14.62+11.03i+14.46j+13.93k']]\n",
       "\n",
       " [['+15.47+13.26i+17.06j+12.79k']\n",
       "  ['+16.47+14.7i+13.01j+14.5k']\n",
       "  ['+15.18+13.58i+12.73j+11.21k']\n",
       "  ['+15.53+14.93i+15.52j+14.76k']\n",
       "  ['+16.52+11i+17.85j+17.01k']\n",
       "  ['+14.83+15.28i+12.88j+13.58k']\n",
       "  ['+13.18+13i+14.48j+15.54k']\n",
       "  ['+16.32+12.36i+12.55j+14.79k']\n",
       "  ['+15.27+15.82i+14.43j+13.4k']\n",
       "  ['+15.19+17.49i+15.57j+11.86k']]\n",
       "\n",
       " [['+14.77+15.85i+15.58j+14.91k']\n",
       "  ['+16.88+15.59i+15.61j+13.91k']\n",
       "  ['+13.73+15.12i+16.13j+12.72k']\n",
       "  ['+16.18+17.83i+18.81j+15.68k']\n",
       "  ['+15.47+16.91i+16.38j+13.3k']\n",
       "  ['+15.66+16.79i+17.4j+16.05k']\n",
       "  ['+14.94+15.27i+12.41j+16.9k']\n",
       "  ['+14.18+14.96i+14.71j+12.01k']\n",
       "  ['+17.22+13.24i+14.27j+13.49k']\n",
       "  ['+17.03+13.87i+14.73j..."
      ]
     },
     "metadata": {},
     "output_type": "display_data"
    },
    {
     "data": {
      "text/plain": [
       "Quaternion Array (1,): \n",
       "['+0+1i+2j+3k']"
      ]
     },
     "metadata": {},
     "output_type": "display_data"
    },
    {
     "data": {
      "text/plain": [
       "Quaternion Array (1,): \n",
       "['+0.565-3.575i-12j-4.562k']"
      ]
     },
     "metadata": {},
     "output_type": "display_data"
    },
    {
     "data": {
      "text/plain": [
       "Quaternion Array (20, 10, 1): \n",
       "[[['+0.4938+0.5379i+0.4375j+0.4588k']\n",
       "  ['+0.5126+0.494i+0.5518j+0.5424k']\n",
       "  ['+0.5379+0.5152i+0.5239j+0.4682k']\n",
       "  ['+0.4829+0.5796i+0.4924j+0.5438k']\n",
       "  ['+0.4913+0.5461i+0.4698j+0.5531k']\n",
       "  ['+0.552+0.4398i+0.4524j+0.4966k']\n",
       "  ['+0.4722+0.4253i+0.4496j+0.5223k']\n",
       "  ['+0.4643+0.5254i+0.5615j+0.4495k']\n",
       "  ['+0.3701+0.6113i+0.438j+0.5331k']\n",
       "  ['+0.4874+0.3677i+0.4821j+0.4643k']]\n",
       "\n",
       " [['+0.5157+0.4419i+0.5685j+0.4264k']\n",
       "  ['+0.549+0.4901i+0.4335j+0.4834k']\n",
       "  ['+0.506+0.4528i+0.4242j+0.3737k']\n",
       "  ['+0.5177+0.4977i+0.5172j+0.4921k']\n",
       "  ['+0.5508+0.3667i+0.5951j+0.5671k']\n",
       "  ['+0.4945+0.5094i+0.4293j+0.4528k']\n",
       "  ['+0.4394+0.4333i+0.4826j+0.518k']\n",
       "  ['+0.5442+0.4121i+0.4183j+0.493k']\n",
       "  ['+0.5091+0.5273i+0.481j+0.4468k']\n",
       "  ['+0.5065+0.5829i+0.5189j+0.3953k']]\n",
       "\n",
       " [['+0.4924+0.5282i+0.5193j+0.4971k']\n",
       "  ['+0.5627+0.5198i+0.5202j+0.4638k']\n",
       "  ['+0.4578+0.5041i+0.5376j+0.424k']\n",
       "  ['+0.5394+0.5942i+0.6271j+0.5228k']\n",
       "  ['+0.5156+0.5635i+0.5461j+0.4434k']\n",
       "  ['+0.5219+0.5596i+0.5799j+0.5349k']\n",
       "  ['+0.4981+0.508..."
      ]
     },
     "metadata": {},
     "output_type": "display_data"
    }
   ],
   "source": [
    "display(qn2 + qn2)\n",
    "display(qn2 + qn1) # boardcasting\n",
    "display(qn1 - qn2)\n",
    "display(qn1 * qn2) # Check if the calculation is correct\n",
    "display(qn2 * qn1) # also this\n",
    "display(qn2 * 12)\n",
    "display(qn2 / qn1)\n",
    "display(qn1 / qn2)\n",
    "display(qn1 / 8)\n",
    "display(qn1.inv())\n",
    "display(1 / qn1)\n",
    "display((1 / qn1)['x'])\n",
    "display(qn.exp(qn2))\n",
    "display(qn.exp(qn1)) # known bug: if the quaternion number contains a 0, will yield out nan; will fix it soon\n",
    "display(qn1.sum()) # not recommended, sometimes will give typeerror, use Q_num.sum instead\n",
    "display(qn.sum(qn1))\n",
    "display(qn.sum(qn2))\n",
    "display(qn.sum(qn3))\n",
    "display(qn.mean(qn1))\n",
    "display(qn.mean(qn2))\n",
    "display(qn.mean(qn3))"
   ]
  },
  {
   "cell_type": "code",
   "execution_count": 7,
   "metadata": {},
   "outputs": [
    {
     "data": {
      "text/plain": [
       "Quaternion Array (2,): \n",
       "['+0-3i-2j-4k' '+0-4.15i-22j-5.123k']"
      ]
     },
     "metadata": {},
     "output_type": "display_data"
    },
    {
     "data": {
      "text/plain": [
       "Quaternion Array (2,): \n",
       "['+1+0i+0j+0k' '+0.13+0i+0j+0k']"
      ]
     },
     "metadata": {},
     "output_type": "display_data"
    },
    {
     "data": {
      "text/plain": [
       "array([[ -3.      ,  -2.      ,  -4.      ],\n",
       "       [ -4.15    , -22.      ,  -5.123123]])"
      ]
     },
     "metadata": {},
     "output_type": "display_data"
    },
    {
     "data": {
      "text/plain": [
       "array([1.  , 0.13])"
      ]
     },
     "metadata": {},
     "output_type": "display_data"
    },
    {
     "data": {
      "text/plain": [
       "array([ 5.47722558, 22.96705879])"
      ]
     },
     "metadata": {},
     "output_type": "display_data"
    },
    {
     "data": {
      "text/plain": [
       "Quaternion Array (2, 1): \n",
       "[['+0.1826-0.5477i-0.3651j-0.7303k']\n",
       " ['+0.00566-0.1807i-0.9579j-0.2231k']]"
      ]
     },
     "metadata": {},
     "output_type": "display_data"
    },
    {
     "data": {
      "text/plain": [
       "Quaternion Array (2, 1): \n",
       "[['+0.1826-0.5477i-0.3651j-0.7303k']\n",
       " ['+0.00566-0.1807i-0.9579j-0.2231k']]"
      ]
     },
     "metadata": {},
     "output_type": "display_data"
    },
    {
     "data": {
      "text/plain": [
       "Quaternion Array (6, 2): \n",
       "[['+0-0.5527i-0.2586j-0.6207k' '+0-0.5575i-0.2905j-0.2409k']\n",
       " ['+0-0.863i-0.1098j-0.8721k' '+0-0.5914i-0.1004j-0.06947k']\n",
       " ['+0-0.3826i-0.3702j-0.7615k' '+0-0.2235i-0.07953j-0.6633k']\n",
       " ['+0-0.8045i-0.8879j-0.1938k' '+0-0.816i-0.7587j-0.8577k']\n",
       " ['+0-0.717i-0.3235j-0.8824k' '+0-0.02288i-0.7212j-0.8605k']\n",
       " ['+0-0.4212i-0.6281j-0.8993k' '+0-0.8853i-0.6943j-0.6907k']]"
      ]
     },
     "metadata": {},
     "output_type": "display_data"
    }
   ],
   "source": [
    "display(qn2.imag())\n",
    "display(qn2.real())\n",
    "display(qn2.imagpart())\n",
    "display(qn2.realpart())\n",
    "display(qn2.norm())\n",
    "display(qn2/qn2.norm())\n",
    "display(qn2.normalize())\n",
    "display(qn5.qT()) # quaternion matrix transpose "
   ]
  },
  {
   "cell_type": "markdown",
   "metadata": {},
   "source": [
    "### Q_num methods"
   ]
  },
  {
   "cell_type": "code",
   "execution_count": 8,
   "metadata": {},
   "outputs": [
    {
     "data": {
      "text/plain": [
       "Quaternion Array (3, 1): \n",
       "[['+0+1i+2j+3k']\n",
       " ['+1-3i-2j-4k']\n",
       " ['+0.13-4.15i-22j-5.123k']]"
      ]
     },
     "metadata": {},
     "output_type": "display_data"
    }
   ],
   "source": [
    "display(qn.stack(qn1,qn2,axis = 1)) "
   ]
  },
  {
   "cell_type": "code",
   "execution_count": 9,
   "metadata": {},
   "outputs": [
    {
     "data": {
      "text/plain": [
       "array([19.      , 63.519369])"
      ]
     },
     "metadata": {},
     "output_type": "display_data"
    },
    {
     "data": {
      "text/plain": [
       "Quaternion Array (2,): \n",
       "['+0-1i-3j+7k' '+0+55.88i-7.067j-13.31k']"
      ]
     },
     "metadata": {},
     "output_type": "display_data"
    },
    {
     "data": {
      "text/plain": [
       "array([0.33940126, 0.73896065])"
      ]
     },
     "metadata": {},
     "output_type": "display_data"
    },
    {
     "data": {
      "text/plain": [
       "Quaternion Array (2,): \n",
       "['+0-0.2857i+3.429j+4.143k' '+0+4.924i-3.852j+22.1k']"
      ]
     },
     "metadata": {},
     "output_type": "display_data"
    },
    {
     "data": {
      "text/plain": [
       "Quaternion Array (2,): \n",
       "['+1-1.892i-4.051j-3.002k' '+0.13+10.36i-11.03j-17.27k']"
      ]
     },
     "metadata": {},
     "output_type": "display_data"
    }
   ],
   "source": [
    "# display(qn.stack(qn1,qn2,axis = 1)) # stack in the same way as np.stack\n",
    "display(qn.qdot(qn1,qn2)) # dot product\n",
    "display(qn.qcross(qn1,qn2)) # cross product\n",
    "display(qn.anglebtw(qn1.imag(),qn2.imag())) # if use quaternion number to represent 3d vec, this will give you the angle between two 3d vector\n",
    "display(qn.reflect(qn1.imag(),qn2.imag())) # first input: normal line of a surface, second input: a 3d vector in quaternion form; this will return the reflected vector\n",
    "display(qn.rotate(qn1,qn2,np.pi/2))  # first input is the rotation axis, 2nd: point to be rotated, 3rd: rotation angle (optional, if none, directly use qn1 for rotation)"
   ]
  },
  {
   "cell_type": "code",
   "execution_count": 10,
   "metadata": {},
   "outputs": [
    {
     "data": {
      "text/plain": [
       "(2, 4)"
      ]
     },
     "execution_count": 10,
     "metadata": {},
     "output_type": "execute_result"
    }
   ],
   "source": [
    "qn1.asMatrix().shape\n",
    "qn2.asMatrix().shape"
   ]
  },
  {
   "cell_type": "markdown",
   "metadata": {},
   "source": [
    "### Some visualization"
   ]
  },
  {
   "cell_type": "code",
   "execution_count": 13,
   "metadata": {
    "scrolled": false
   },
   "outputs": [
    {
     "name": "stderr",
     "output_type": "stream",
     "text": [
      "C:\\Users\\yuezh\\Documents\\GitHub\\Q_numpy\\Q_num.py:329: RuntimeWarning: invalid value encountered in true_divide\n",
      "  coeff_imag = np.sin(coeff_imag_base)/coeff_imag_base\n"
     ]
    },
    {
     "data": {
      "image/png": "[encoded data removed]",
      "text/plain": [
       "<Figure size 432x288 with 1 Axes>"
      ]
     },
     "metadata": {
      "needs_background": "light"
     },
     "output_type": "display_data"
    }
   ],
   "source": [
    "from mpl_toolkits.mplot3d import Axes3D\n",
    "spherePoints = qn.qn(np.random.rand(240,3)-np.array([.5,.5,0])).normalize()\n",
    "rotateQn     = qn.qn([np.cos(np.pi/2*3),np.sin(np.pi/2*3),0,0])\n",
    "rotatedPoints = qn.rotate(qn.qn([1,0,0]),spherePoints,0)\n",
    "fig = plt.figure()\n",
    "ax = Axes3D(fig);\n",
    "ax.scatter(spherePoints['x'],spherePoints['y'],spherePoints['z'],color = 'k')\n",
    "ax.scatter(rotatedPoints['x'],rotatedPoints['y'],rotatedPoints['z'],color = 'r')\n",
    "ax.axis('auto');\n",
    "ax.autoscale = False;"
   ]
  },
  {
   "cell_type": "code",
   "execution_count": 15,
   "metadata": {},
   "outputs": [
    {
     "ename": "TypeError",
     "evalue": "ufunc 'negative' did not contain a loop with signature matching types dtype([('w', '<f8'), ('x', '<f8'), ('y', '<f8'), ('z', '<f8')]) dtype([('w', '<f8'), ('x', '<f8'), ('y', '<f8'), ('z', '<f8')])",
     "output_type": "error",
     "traceback": [
      "\u001b[1;31m---------------------------------------------------------------------------\u001b[0m",
      "\u001b[1;31mTypeError\u001b[0m                                 Traceback (most recent call last)",
      "\u001b[1;32m<ipython-input-15-e3fec60c4f58>\u001b[0m in \u001b[0;36m<module>\u001b[1;34m\u001b[0m\n\u001b[0;32m      1\u001b[0m \u001b[0ma\u001b[0m \u001b[1;33m=\u001b[0m \u001b[0mqn\u001b[0m\u001b[1;33m.\u001b[0m\u001b[0mqn\u001b[0m\u001b[1;33m(\u001b[0m\u001b[1;33m[\u001b[0m\u001b[1;36m0\u001b[0m\u001b[1;33m,\u001b[0m\u001b[1;36m1\u001b[0m\u001b[1;33m,\u001b[0m\u001b[1;36m2\u001b[0m\u001b[1;33m,\u001b[0m\u001b[1;36m3\u001b[0m\u001b[1;33m]\u001b[0m\u001b[1;33m)\u001b[0m\u001b[1;33m\u001b[0m\u001b[1;33m\u001b[0m\u001b[0m\n\u001b[1;32m----> 2\u001b[1;33m \u001b[1;33m-\u001b[0m\u001b[0ma\u001b[0m\u001b[1;33m\u001b[0m\u001b[1;33m\u001b[0m\u001b[0m\n\u001b[0m",
      "\u001b[1;31mTypeError\u001b[0m: ufunc 'negative' did not contain a loop with signature matching types dtype([('w', '<f8'), ('x', '<f8'), ('y', '<f8'), ('z', '<f8')]) dtype([('w', '<f8'), ('x', '<f8'), ('y', '<f8'), ('z', '<f8')])"
     ]
    }
   ],
   "source": [
    "a = qn.qn([0,1,2,3])\n",
    "-a"
   ]
  }
 ],
 "metadata": {
  "kernelspec": {
   "display_name": "Python 3",
   "language": "python",
   "name": "python3"
  },
  "language_info": {
   "codemirror_mode": {
    "name": "ipython",
    "version": 3
   },
   "file_extension": ".py",
   "mimetype": "text/x-python",
   "name": "python",
   "nbconvert_exporter": "python",
   "pygments_lexer": "ipython3",
   "version": "3.7.3"
  }
 },
 "nbformat": 4,
 "nbformat_minor": 2
}
