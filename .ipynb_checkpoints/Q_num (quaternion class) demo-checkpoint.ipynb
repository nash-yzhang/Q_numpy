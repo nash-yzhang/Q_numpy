{
 "cells": [
  {
   "cell_type": "code",
   "execution_count": 288,
   "metadata": {},
   "outputs": [
    {
     "ename": "IndentationError",
     "evalue": "expected an indented block (Q_num.py, line 267)",
     "output_type": "error",
     "traceback": [
      "Traceback \u001b[1;36m(most recent call last)\u001b[0m:\n",
      "  File \u001b[0;32m\"D:\\Anaconda\\lib\\site-packages\\IPython\\core\\interactiveshell.py\"\u001b[0m, line \u001b[0;32m3325\u001b[0m, in \u001b[0;35mrun_code\u001b[0m\n    exec(code_obj, self.user_global_ns, self.user_ns)\n",
      "  File \u001b[0;32m\"<ipython-input-288-9422a6530101>\"\u001b[0m, line \u001b[0;32m6\u001b[0m, in \u001b[0;35m<module>\u001b[0m\n    importlib.reload(qn);\n",
      "  File \u001b[0;32m\"D:\\Anaconda\\lib\\importlib\\__init__.py\"\u001b[0m, line \u001b[0;32m169\u001b[0m, in \u001b[0;35mreload\u001b[0m\n    _bootstrap._exec(spec, module)\n",
      "  File \u001b[0;32m\"<frozen importlib._bootstrap>\"\u001b[0m, line \u001b[0;32m630\u001b[0m, in \u001b[0;35m_exec\u001b[0m\n",
      "  File \u001b[0;32m\"<frozen importlib._bootstrap_external>\"\u001b[0m, line \u001b[0;32m724\u001b[0m, in \u001b[0;35mexec_module\u001b[0m\n",
      "  File \u001b[0;32m\"<frozen importlib._bootstrap_external>\"\u001b[0m, line \u001b[0;32m860\u001b[0m, in \u001b[0;35mget_code\u001b[0m\n",
      "  File \u001b[0;32m\"<frozen importlib._bootstrap_external>\"\u001b[0m, line \u001b[0;32m791\u001b[0m, in \u001b[0;35msource_to_code\u001b[0m\n",
      "\u001b[1;36m  File \u001b[1;32m\"<frozen importlib._bootstrap>\"\u001b[1;36m, line \u001b[1;32m219\u001b[1;36m, in \u001b[1;35m_call_with_frames_removed\u001b[1;36m\u001b[0m\n",
      "\u001b[1;36m  File \u001b[1;32m\"C:\\Users\\yuezh\\Documents\\GitHub\\Q_numpy\\Q_num.py\"\u001b[1;36m, line \u001b[1;32m267\u001b[0m\n\u001b[1;33m    qmatStack = np.squeeze(np.stack([x for x in qn_array],**kwargs))\u001b[0m\n\u001b[1;37m            ^\u001b[0m\n\u001b[1;31mIndentationError\u001b[0m\u001b[1;31m:\u001b[0m expected an indented block\n"
     ]
    }
   ],
   "source": [
    "import Q_num as qn\n",
    "import numpy as np\n",
    "import importlib\n",
    "\n",
    "import matplotlib.pyplot as plt\n",
    "importlib.reload(qn);\n",
    "%matplotlib notebook"
   ]
  },
  {
   "cell_type": "markdown",
   "metadata": {},
   "source": [
    "### Create quaternion number/arrray"
   ]
  },
  {
   "cell_type": "code",
   "execution_count": null,
   "metadata": {
    "scrolled": true
   },
   "outputs": [],
   "source": [
    "qn1 = qn.qn([0,1,2,3])\n",
    "qn2 = qn.qn(np.array([[1,3,2,4],[0.13,4.15,22,5.123123]]))\n",
    "qn3 = qn.qn(np.random.rand(30,20,10,4))\n",
    "qn4 = qn.qn(np.random.rand(10,20,3)) #3D coordinate matrix will be converted to quaterniono matrix whose real part is 0"
   ]
  },
  {
   "cell_type": "markdown",
   "metadata": {},
   "source": [
    "### Quaternion array attribute and indexing"
   ]
  },
  {
   "cell_type": "code",
   "execution_count": null,
   "metadata": {},
   "outputs": [],
   "source": [
    "display(qn1)\n",
    "print(qn1['y'])\n",
    "\n",
    "qn5 = qn4[:2,14:]\n",
    "display(qn5)\n",
    "print(qn5['x'])\n",
    "print(qn5[0,:3]['x'])\n",
    "print(qn5['x'][0,:3])"
   ]
  },
  {
   "cell_type": "code",
   "execution_count": null,
   "metadata": {},
   "outputs": [],
   "source": [
    "display(qn5.asMatrix())\n",
    "display(qn5.asMatrix().shape)\n",
    "display(qn5.compact().shape)"
   ]
  },
  {
   "cell_type": "code",
   "execution_count": null,
   "metadata": {},
   "outputs": [],
   "source": [
    "qn4[...,None]"
   ]
  },
  {
   "cell_type": "markdown",
   "metadata": {},
   "source": [
    "### basic calculation"
   ]
  },
  {
   "cell_type": "code",
   "execution_count": 289,
   "metadata": {
    "scrolled": false
   },
   "outputs": [
    {
     "data": {
      "text/plain": [
       "Quaternion Array (2, 1): \n",
       "[['+2+6i+4j+8k']\n",
       " ['+0.26+8.3i+44j+10.25k']]"
      ]
     },
     "metadata": {},
     "output_type": "display_data"
    },
    {
     "data": {
      "text/plain": [
       "Quaternion Array (2, 1): \n",
       "[['+1+4i+4j+7k']\n",
       " ['+0.13+5.15i+24j+8.123k']]"
      ]
     },
     "metadata": {},
     "output_type": "display_data"
    },
    {
     "data": {
      "text/plain": [
       "Quaternion Array (2, 1): \n",
       "[['-1-2i+0j-1k']\n",
       " ['-0.13-3.15i-20j-2.123k']]"
      ]
     },
     "metadata": {},
     "output_type": "display_data"
    },
    {
     "data": {
      "text/plain": [
       "Quaternion Array (2,): \n",
       "['-19+3i+7j-1k' '-63.52-55.62i+7.587j+14.09k']"
      ]
     },
     "metadata": {},
     "output_type": "display_data"
    },
    {
     "data": {
      "text/plain": [
       "Quaternion Array (2,): \n",
       "['-19-1i-3j+7k' '-63.52+55.88i-7.067j-13.31k']"
      ]
     },
     "metadata": {},
     "output_type": "display_data"
    },
    {
     "data": {
      "text/plain": [
       "Quaternion Array (2, 1): \n",
       "[['+12+36i+24j+48k']\n",
       " ['+1.56+49.8i+264j+61.48k']]"
      ]
     },
     "metadata": {},
     "output_type": "display_data"
    },
    {
     "data": {
      "text/plain": [
       "Quaternion Array (2,): \n",
       "['+1.357+0.07143i+0.2143j-0.5k' '+4.537-3.992i+0.5048j+0.9507k']"
      ]
     },
     "metadata": {},
     "output_type": "display_data"
    },
    {
     "data": {
      "text/plain": [
       "Quaternion Array (2,): \n",
       "['+0.6786-0.03571i-0.1071j+0.25k' '+0.1204+0.106i-0.0134j-0.02523k']"
      ]
     },
     "metadata": {},
     "output_type": "display_data"
    },
    {
     "data": {
      "text/plain": [
       "Quaternion Array (1,): \n",
       "['-0+0.125i+0.25j+0.375k']"
      ]
     },
     "metadata": {},
     "output_type": "display_data"
    },
    {
     "data": {
      "text/plain": [
       "Quaternion Array (): \n",
       "'-0-0.07143i-0.1429j-0.2143k'"
      ]
     },
     "metadata": {},
     "output_type": "display_data"
    },
    {
     "data": {
      "text/plain": [
       "Quaternion Array (1,): \n",
       "['+0-0.07143i-0.1429j-0.2143k']"
      ]
     },
     "metadata": {},
     "output_type": "display_data"
    },
    {
     "data": {
      "text/plain": [
       "array([-0.07142857])"
      ]
     },
     "metadata": {},
     "output_type": "display_data"
    },
    {
     "data": {
      "text/plain": [
       "Quaternion Array (2,): \n",
       "['+0.2292-0.4357i-0.2905j-0.5809k' '-0.4924-0.1496i-0.7932j-0.1847k']"
      ]
     },
     "metadata": {},
     "output_type": "display_data"
    },
    {
     "data": {
      "text/plain": [
       "Quaternion Array (1,): \n",
       "['-0.8253-0.1509i-0.3018j-0.4528k']"
      ]
     },
     "metadata": {},
     "output_type": "display_data"
    },
    {
     "data": {
      "text/plain": [
       "Quaternion Array (1,): \n",
       "['+0+1i+2j+3k']"
      ]
     },
     "metadata": {},
     "output_type": "display_data"
    },
    {
     "data": {
      "text/plain": [
       "Quaternion Array (1,): \n",
       "['+0+1i+2j+3k']"
      ]
     },
     "metadata": {},
     "output_type": "display_data"
    },
    {
     "data": {
      "text/plain": [
       "Quaternion Array (1,): \n",
       "['-1.13+7.15i+24j+9.123k']"
      ]
     },
     "metadata": {},
     "output_type": "display_data"
    },
    {
     "data": {
      "text/plain": [
       "Quaternion Array (20, 10, 1): \n",
       "[[['+15.53+17.49i+14.5j+14.08k']\n",
       "  ['+16.22+15.58i+15.89j+13.78k']\n",
       "  ['+15.39+17.41i+18.5j+16.15k']\n",
       "  ['+15.17+17.32i+13.92j+18.06k']\n",
       "  ['+14.79+14.99i+16.05j+14.81k']\n",
       "  ['+14.67+14.65i+15.01j+14.5k']\n",
       "  ['+17.23+12.05i+15.59j+12.83k']\n",
       "  ['+13.41+12.6i+14.58j+14.94k']\n",
       "  ['+16.46+15.66i+17.05j+13.86k']\n",
       "  ['+16.09+15.56i+14.27j+14.84k']]\n",
       "\n",
       " [['+16.7+14.79i+16.15j+12.84k']\n",
       "  ['+11.76+15.2i+17.31j+15.24k']\n",
       "  ['+13.53+14.81i+13.28j+14.79k']\n",
       "  ['+13.55+14.86i+16.3j+13.65k']\n",
       "  ['+16.69+14.8i+14.76j+14.59k']\n",
       "  ['+14.63+14.8i+15.21j+14.9k']\n",
       "  ['+11.64+14.66i+13.95j+15.95k']\n",
       "  ['+15.54+16.97i+11.9j+13.89k']\n",
       "  ['+13.42+14.4i+12.68j+14.88k']\n",
       "  ['+14.66+18.73i+12.62j+16.41k']]\n",
       "\n",
       " [['+12.32+14.48i+15.35j+13.83k']\n",
       "  ['+15.98+14.75i+13.18j+15.67k']\n",
       "  ['+14.07+13.34i+15.76j+15.14k']\n",
       "  ['+16.64+14.33i+16.06j+15.56k']\n",
       "  ['+14.14+16.77i+17.34j+13.67k']\n",
       "  ['+14.57+17.09i+17.5j+16.16k']\n",
       "  ['+16.49+13.44i+11.87j+15.7k']\n",
       "  ['+17.81+16.14i+13.49j+16.22k']\n",
       "  ['+13.8+12.18i+16.9j+17.32k']\n",
       "  ['+13.08+17.49i+15.37j+1..."
      ]
     },
     "metadata": {},
     "output_type": "display_data"
    },
    {
     "ename": "Exception",
     "evalue": "Input array should be a list or ndarray, instead its type is <class 'numpy.float64'>\n",
     "output_type": "error",
     "traceback": [
      "\u001b[1;31m---------------------------------------------------------------------------\u001b[0m",
      "\u001b[1;31mException\u001b[0m                                 Traceback (most recent call last)",
      "\u001b[1;32m<ipython-input-289-55865df1173d>\u001b[0m in \u001b[0;36m<module>\u001b[1;34m\u001b[0m\n\u001b[0;32m     17\u001b[0m \u001b[0mdisplay\u001b[0m\u001b[1;33m(\u001b[0m\u001b[0mqn\u001b[0m\u001b[1;33m.\u001b[0m\u001b[0msum\u001b[0m\u001b[1;33m(\u001b[0m\u001b[0mqn2\u001b[0m\u001b[1;33m)\u001b[0m\u001b[1;33m)\u001b[0m\u001b[1;33m\u001b[0m\u001b[1;33m\u001b[0m\u001b[0m\n\u001b[0;32m     18\u001b[0m \u001b[0mdisplay\u001b[0m\u001b[1;33m(\u001b[0m\u001b[0mqn\u001b[0m\u001b[1;33m.\u001b[0m\u001b[0msum\u001b[0m\u001b[1;33m(\u001b[0m\u001b[0mqn3\u001b[0m\u001b[1;33m)\u001b[0m\u001b[1;33m)\u001b[0m\u001b[1;33m\u001b[0m\u001b[1;33m\u001b[0m\u001b[0m\n\u001b[1;32m---> 19\u001b[1;33m \u001b[0mdisplay\u001b[0m\u001b[1;33m(\u001b[0m\u001b[0mqn\u001b[0m\u001b[1;33m.\u001b[0m\u001b[0mmean\u001b[0m\u001b[1;33m(\u001b[0m\u001b[0mqn1\u001b[0m\u001b[1;33m)\u001b[0m\u001b[1;33m)\u001b[0m\u001b[1;33m\u001b[0m\u001b[1;33m\u001b[0m\u001b[0m\n\u001b[0m",
      "\u001b[1;32m~\\Documents\\GitHub\\Q_numpy\\Q_num.py\u001b[0m in \u001b[0;36mmean\u001b[1;34m(*qn_array, **kwargs)\u001b[0m\n\u001b[0;32m    298\u001b[0m     \u001b[1;32melse\u001b[0m\u001b[1;33m:\u001b[0m\u001b[1;33m\u001b[0m\u001b[1;33m\u001b[0m\u001b[0m\n\u001b[0;32m    299\u001b[0m         \u001b[0msum_axis\u001b[0m \u001b[1;33m=\u001b[0m \u001b[1;36m0\u001b[0m\u001b[1;33m\u001b[0m\u001b[1;33m\u001b[0m\u001b[0m\n\u001b[1;32m--> 300\u001b[1;33m     \u001b[0mkwargs\u001b[0m\u001b[1;33m[\u001b[0m\u001b[1;34m'axis'\u001b[0m\u001b[1;33m]\u001b[0m \u001b[1;33m=\u001b[0m \u001b[0msum_axis\u001b[0m\u001b[1;33m\u001b[0m\u001b[1;33m\u001b[0m\u001b[0m\n\u001b[0m\u001b[0;32m    301\u001b[0m     \u001b[0mqmatStack\u001b[0m \u001b[1;33m=\u001b[0m \u001b[0mnp\u001b[0m\u001b[1;33m.\u001b[0m\u001b[0msqueeze\u001b[0m\u001b[1;33m(\u001b[0m\u001b[0mnp\u001b[0m\u001b[1;33m.\u001b[0m\u001b[0mstack\u001b[0m\u001b[1;33m(\u001b[0m\u001b[1;33m[\u001b[0m\u001b[0mx\u001b[0m \u001b[1;32mfor\u001b[0m \u001b[0mx\u001b[0m \u001b[1;32min\u001b[0m \u001b[0mqn_array\u001b[0m\u001b[1;33m]\u001b[0m\u001b[1;33m,\u001b[0m\u001b[1;33m**\u001b[0m\u001b[0mkwargs\u001b[0m\u001b[1;33m)\u001b[0m\u001b[1;33m)\u001b[0m\u001b[1;33m\u001b[0m\u001b[1;33m\u001b[0m\u001b[0m\n\u001b[0;32m    302\u001b[0m     \u001b[1;32mif\u001b[0m \u001b[1;32mnot\u001b[0m \u001b[0mqmatStack\u001b[0m\u001b[1;33m.\u001b[0m\u001b[0mshape\u001b[0m\u001b[1;33m:\u001b[0m\u001b[1;33m\u001b[0m\u001b[1;33m\u001b[0m\u001b[0m\n",
      "\u001b[1;32m~\\Documents\\GitHub\\Q_numpy\\Q_num.py\u001b[0m in \u001b[0;36m__new__\u001b[1;34m(cls, compactMat)\u001b[0m\n\u001b[0;32m     18\u001b[0m             \u001b[1;32mpass\u001b[0m\u001b[1;33m\u001b[0m\u001b[1;33m\u001b[0m\u001b[0m\n\u001b[0;32m     19\u001b[0m         \u001b[1;32melse\u001b[0m\u001b[1;33m:\u001b[0m\u001b[1;33m\u001b[0m\u001b[1;33m\u001b[0m\u001b[0m\n\u001b[1;32m---> 20\u001b[1;33m             \u001b[1;32mraise\u001b[0m \u001b[0mException\u001b[0m\u001b[1;33m(\u001b[0m\u001b[1;34m'Input array should be a list or ndarray, instead its type is %s\\n'\u001b[0m \u001b[1;33m%\u001b[0m \u001b[0mmattype\u001b[0m\u001b[1;33m)\u001b[0m\u001b[1;33m\u001b[0m\u001b[1;33m\u001b[0m\u001b[0m\n\u001b[0m\u001b[0;32m     21\u001b[0m         \u001b[0mmatshape\u001b[0m \u001b[1;33m=\u001b[0m \u001b[0mcompactMat\u001b[0m\u001b[1;33m.\u001b[0m\u001b[0mshape\u001b[0m\u001b[1;33m\u001b[0m\u001b[1;33m\u001b[0m\u001b[0m\n\u001b[0;32m     22\u001b[0m         \u001b[0mqn_compact\u001b[0m \u001b[1;33m=\u001b[0m \u001b[0mnp\u001b[0m\u001b[1;33m.\u001b[0m\u001b[0mzeros\u001b[0m\u001b[1;33m(\u001b[0m\u001b[1;33m[\u001b[0m\u001b[1;33m*\u001b[0m\u001b[0mmatshape\u001b[0m\u001b[1;33m[\u001b[0m\u001b[1;33m:\u001b[0m\u001b[1;33m-\u001b[0m\u001b[1;36m1\u001b[0m\u001b[1;33m]\u001b[0m\u001b[1;33m]\u001b[0m\u001b[1;33m,\u001b[0m\u001b[0mdtype\u001b[0m \u001b[1;33m=\u001b[0m \u001b[0mqn\u001b[0m\u001b[1;33m.\u001b[0m\u001b[0mqn_dtype\u001b[0m\u001b[1;33m)\u001b[0m\u001b[1;33m\u001b[0m\u001b[1;33m\u001b[0m\u001b[0m\n",
      "\u001b[1;31mException\u001b[0m: Input array should be a list or ndarray, instead its type is <class 'numpy.float64'>\n"
     ]
    }
   ],
   "source": [
    "display(qn2 + qn2)\n",
    "display(qn2 + qn1) # boardcasting\n",
    "display(qn1 - qn2)\n",
    "display(qn1 * qn2) # Check if the calculation is correct\n",
    "display(qn2 * qn1) # also this\n",
    "display(qn2 * 12)\n",
    "display(qn2 / qn1)\n",
    "display(qn1 / qn2)\n",
    "display(qn1 / 8)\n",
    "display(qn1.inv())\n",
    "display(1 / qn1)\n",
    "display((1 / qn1)['x'])\n",
    "display(qn.exp(qn2))\n",
    "display(qn.exp(qn1)) # known bug: if the quaternion number contains a 0, will yield out nan; will fix it soon\n",
    "display(qn1.sum()) # not recommended, sometimes will give typeerror, use Q_num.sum instead\n",
    "display(qn.sum(qn1))\n",
    "display(qn.sum(qn2))\n",
    "display(qn.sum(qn3))"
   ]
  },
  {
   "cell_type": "code",
   "execution_count": null,
   "metadata": {
    "scrolled": true
   },
   "outputs": [],
   "source": [
    "qn1.sum()"
   ]
  },
  {
   "cell_type": "code",
   "execution_count": null,
   "metadata": {},
   "outputs": [],
   "source": [
    "display(qn2.imag())\n",
    "display(qn2.real())\n",
    "display(qn2.imagpart())\n",
    "display(qn2.realpart())\n",
    "display(qn2.norm())\n",
    "display(qn2/qn2.norm())\n",
    "display(qn2.normalize())\n",
    "display(qn5.qT()) # quaternion matrix transpose "
   ]
  },
  {
   "cell_type": "markdown",
   "metadata": {},
   "source": [
    "### Q_num methods"
   ]
  },
  {
   "cell_type": "code",
   "execution_count": null,
   "metadata": {},
   "outputs": [],
   "source": [
    "display(qn.stack(qn1,qn2,axis = 1)) # stack in the same way as np.stack\n",
    "display(qn.qdot(qn1,qn2)) # dot product\n",
    "display(qn.qcross(qn1,qn2)) # cross product\n",
    "display(qn.anglebtw(qn1.imag(),qn2.imag())) # if use quaternion number to represent 3d vec, this will give you the angle between two 3d vector\n",
    "display(qn.reflect(qn1.imag(),qn2.imag())) # first input: normal line of a surface, second input: a 3d vector in quaternion form; this will return the reflected vector\n",
    "display(qn.rotate(qn1,qn2,np.pi/2))  # first input is the rotation axis, 2nd: point to be rotated, 3rd: rotation angle (optional, if none, directly use qn1 for rotation)"
   ]
  },
  {
   "cell_type": "markdown",
   "metadata": {},
   "source": [
    "### Some visualization"
   ]
  },
  {
   "cell_type": "code",
   "execution_count": null,
   "metadata": {},
   "outputs": [],
   "source": [
    "from mpl_toolkits.mplot3d import Axes3D\n",
    "spherePoints = qn.qn(np.random.rand(240,3)-np.array([.5,.5,0])).normalize()\n",
    "rotateQn     = qn.qn([np.cos(np.pi/2),np.sin(np.pi/2),0,0])\n",
    "rotatedPoints = rotateQn*spherePoints*rotateQn.conj()\n",
    "fig = plt.figure()\n",
    "ax = Axes3D(fig);\n",
    "ax.scatter(spherePoints.x,spherePoints.y,spherePoints.z,color = 'k')\n",
    "ax.scatter(rotatedPoints.x,rotatedPoints.y,rotatedPoints.z,color = 'r')\n",
    "ax.axis('auto');\n",
    "ax.autoscale = False;"
   ]
  }
 ],
 "metadata": {
  "kernelspec": {
   "display_name": "Python 3",
   "language": "python",
   "name": "python3"
  },
  "language_info": {
   "codemirror_mode": {
    "name": "ipython",
    "version": 3
   },
   "file_extension": ".py",
   "mimetype": "text/x-python",
   "name": "python",
   "nbconvert_exporter": "python",
   "pygments_lexer": "ipython3",
   "version": "3.7.3"
  }
 },
 "nbformat": 4,
 "nbformat_minor": 2
}
